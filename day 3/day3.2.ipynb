{
 "cells": [
  {
   "cell_type": "code",
   "execution_count": null,
   "metadata": {},
   "outputs": [],
   "source": [
    "from functools import reduce\n",
    "from operator import mul\n",
    "\n",
    "file_in = open('input.txt', 'r')\n",
    "lines = file_in.readlines()\n",
    "\n",
    "trees_res=[]\n",
    "downmax=len(lines)-1\n",
    "rightmax=len(lines[0])-1\n",
    "\n",
    "LR_pairs = [(1,1), (3, 1), (5, 1), (7, 1), (1, 2)]\n",
    "\n",
    "print(\"down: \" + str(downmax) + \" right: \" + str(rightmax))\n",
    "\n",
    "for pair in LR_pairs:\n",
    "    trees=0\n",
    "    down = 0\n",
    "    right = 0\n",
    "    while (down <= downmax) :\n",
    "        if right >= rightmax :\n",
    "            right = right-rightmax\n",
    "        if lines[down][right] == '#':\n",
    "            trees+=1\n",
    "        right+=pair[0]\n",
    "        down+=pair[1]\n",
    "    trees_res+=[trees]\n",
    "    print(\"Trees:\" + str(trees))\n",
    "    \n",
    "print(\"Total: \" + str(reduce(mul, trees_res)))\n"
   ]
  }
 ],
 "metadata": {
  "kernelspec": {
   "display_name": "Python 3",
   "language": "python",
   "name": "python3"
  },
  "language_info": {
   "codemirror_mode": {
    "name": "ipython",
    "version": 3
   },
   "file_extension": ".py",
   "mimetype": "text/x-python",
   "name": "python",
   "nbconvert_exporter": "python",
   "pygments_lexer": "ipython3",
   "version": "3.7.4"
  }
 },
 "nbformat": 4,
 "nbformat_minor": 4
}
