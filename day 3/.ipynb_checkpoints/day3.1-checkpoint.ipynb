{
 "cells": [
  {
   "cell_type": "code",
   "execution_count": 42,
   "metadata": {},
   "outputs": [
    {
     "name": "stdout",
     "output_type": "stream",
     "text": [
      "down: 322 right: 31\n",
      "down: 0 right: 0 char: .\n",
      "Trees:220\n"
     ]
    }
   ],
   "source": [
    "file_in = open('input.txt', 'r')\n",
    "lines = file_in.readlines()\n",
    "file_in.close()\n",
    "\n",
    "right = 0 # move 3\n",
    "down = 0 # move 1\n",
    "trees = 0\n",
    "downmax=len(lines)-1\n",
    "rightmax=len(lines[0])-1\n",
    "\n",
    "print(\"down: \" + str(downmax) + \" right: \" + str(rightmax))\n",
    "\n",
    "print(\"down: \" + str(down) + \" right: \" + str(right) + \" char: \" + lines[down][right])\n",
    "\n",
    "while (down <= downmax) :\n",
    "    if right >= rightmax :\n",
    "        right = right-rightmax\n",
    "    if lines[down][right] == '#':\n",
    "        trees+=1\n",
    "    right+=3\n",
    "    down+=1\n",
    "\n",
    "print(\"Trees:\" + str(trees))\n"
   ]
  },
  {
   "cell_type": "code",
   "execution_count": null,
   "metadata": {},
   "outputs": [],
   "source": []
  },
  {
   "cell_type": "code",
   "execution_count": null,
   "metadata": {},
   "outputs": [],
   "source": []
  }
 ],
 "metadata": {
  "kernelspec": {
   "display_name": "Python 3",
   "language": "python",
   "name": "python3"
  },
  "language_info": {
   "codemirror_mode": {
    "name": "ipython",
    "version": 3
   },
   "file_extension": ".py",
   "mimetype": "text/x-python",
   "name": "python",
   "nbconvert_exporter": "python",
   "pygments_lexer": "ipython3",
   "version": "3.7.4"
  }
 },
 "nbformat": 4,
 "nbformat_minor": 4
}
