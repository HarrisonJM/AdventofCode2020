{
 "cells": [
  {
   "cell_type": "code",
   "execution_count": 49,
   "metadata": {},
   "outputs": [
    {
     "name": "stdout",
     "output_type": "stream",
     "text": [
      "Valid: 210\n"
     ]
    }
   ],
   "source": [
    "import re\n",
    "\n",
    "byr_bit=0x01\n",
    "iyr_bit=0x02\n",
    "eyr_bit=0x04\n",
    "hgt_bit=0x08\n",
    "hcl_bit=0x10\n",
    "ecl_bit=0x20\n",
    "pid_bit=0x40\n",
    "cid_bit=0x80\n",
    "\n",
    "file_in = open('input.txt', 'r')\n",
    "file = file_in.read()\n",
    "file_in.close()\n",
    "\n",
    "# All seperate passports\n",
    "passports=file.split('\\n\\n')\n",
    "valid=0\n",
    "\n",
    "for passport in passports:\n",
    "    bitfield=0\n",
    "    bitfield|=cid_bit\n",
    "    data=re.split(r'\\ |\\n|:', passport)\n",
    "    for i in range(0, len(data), 2):\n",
    "        cred_id = data[i]\n",
    "        if(cred_id == 'byr'):\n",
    "            bitfield|=byr_bit\n",
    "        elif(cred_id == 'iyr'):\n",
    "            bitfield|=iyr_bit\n",
    "        elif(cred_id == 'eyr'):\n",
    "            bitfield|=eyr_bit\n",
    "        elif(cred_id == 'hgt'):\n",
    "            bitfield|=hgt_bit\n",
    "        elif(cred_id == 'hcl'):\n",
    "            bitfield|=hcl_bit\n",
    "        elif(cred_id == 'ecl'):\n",
    "            bitfield|=ecl_bit\n",
    "        elif(cred_id == 'pid'):\n",
    "            bitfield|=pid_bit\n",
    "    if bitfield is 0xFF:\n",
    "        valid+=1\n",
    "        \n",
    "print(\"Valid: \" + str(valid))  "
   ]
  },
  {
   "cell_type": "code",
   "execution_count": null,
   "metadata": {},
   "outputs": [],
   "source": []
  }
 ],
 "metadata": {
  "kernelspec": {
   "display_name": "Python 3",
   "language": "python",
   "name": "python3"
  },
  "language_info": {
   "codemirror_mode": {
    "name": "ipython",
    "version": 3
   },
   "file_extension": ".py",
   "mimetype": "text/x-python",
   "name": "python",
   "nbconvert_exporter": "python",
   "pygments_lexer": "ipython3",
   "version": "3.7.4"
  }
 },
 "nbformat": 4,
 "nbformat_minor": 4
}
