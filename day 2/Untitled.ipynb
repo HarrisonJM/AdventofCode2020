{
 "cells": [
  {
   "cell_type": "code",
   "execution_count": null,
   "metadata": {},
   "outputs": [],
   "source": [
    "if splitList[i][3][(firstCharPos -1)] or splitList[i][3][(secondCharPos -1)] == letter\n",
    "    if splitList[i][3][(firstCharPos -1)] or splitList[i][3][(secondCharPos -1)] != letter:"
   ]
  },
  {
   "cell_type": "code",
   "execution_count": null,
   "metadata": {},
   "outputs": [],
   "source": [
    "letter1 = splitList[i][3][(firstCharPos -1)] == letter or splitList[i][3][(secondCharPos -1)] == letter\n",
    "letter2 = splitList[i][3][(firstCharPos -1)] ==letter and splitList[i][3][(secondCharPos -1)] == letter\n",
    "\n",
    "if letter1 == lett2:\n",
    "    # fail\n",
    "\n",
    "    "
   ]
  }
 ],
 "metadata": {
  "kernelspec": {
   "display_name": "Python 3",
   "language": "python",
   "name": "python3"
  },
  "language_info": {
   "codemirror_mode": {
    "name": "ipython",
    "version": 3
   },
   "file_extension": ".py",
   "mimetype": "text/x-python",
   "name": "python",
   "nbconvert_exporter": "python",
   "pygments_lexer": "ipython3",
   "version": "3.7.4"
  }
 },
 "nbformat": 4,
 "nbformat_minor": 4
}
