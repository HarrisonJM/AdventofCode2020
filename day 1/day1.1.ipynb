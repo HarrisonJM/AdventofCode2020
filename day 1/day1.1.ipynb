{
 "cells": [
  {
   "cell_type": "code",
   "execution_count": null,
   "metadata": {},
   "outputs": [],
   "source": [
    "file_in = open('input.txt', 'r')\n",
    "lines = file_in.readlines()\n",
    "\n",
    "start = -1\n",
    "stop = len(lines)\n",
    "step = 1\n",
    "print (\"start:\" + str(start) )\n",
    "print (\"stop:\" + str(stop) )\n",
    "print (\"step:\" + str(step) )\n",
    "\n",
    "while True:\n",
    "    start+=1\n",
    "    for i in range(start, stop, step):\n",
    "        for j in range(start+1, stop, step):\n",
    "            for k in range(start+2, stop, step):\n",
    "                if int(lines[i]) + int(lines[j]) + int(lines[k]) == 2020:\n",
    "                    print (\"Answer: \" + str(int(lines[i]) * int(lines[j]) * int(lines[k])) \n",
    "                           + \" Num1: \" + str(int(lines[i])) + \" Num2: \" + str(int(lines[j])) + \"Num3: \" + str(lines[k]) )\n",
    "                    exit()\n"
   ]
  },
  {
   "cell_type": "code",
   "execution_count": 14,
   "metadata": {},
   "outputs": [],
   "source": [
    "file_in = open('input.txt', 'r')\n",
    "lines = file_in.readlines()\n",
    "\n",
    "counter = 0\n",
    "for num in lines:\n",
    "#     print(\"Counter:\" + str(counter) )\n",
    "    counter+=1\n",
    "    dif = 2020 - int(num)\n",
    "    for val in lines:\n",
    "#         print(\"val:\" + str(val) )\n",
    "        if(dif == val):\n",
    "            print(\"DONE!\")\n",
    "    "
   ]
  },
  {
   "cell_type": "code",
   "execution_count": null,
   "metadata": {},
   "outputs": [],
   "source": []
  },
  {
   "cell_type": "code",
   "execution_count": null,
   "metadata": {},
   "outputs": [],
   "source": []
  }
 ],
 "metadata": {
  "kernelspec": {
   "display_name": "Python 3",
   "language": "python",
   "name": "python3"
  },
  "language_info": {
   "codemirror_mode": {
    "name": "ipython",
    "version": 3
   },
   "file_extension": ".py",
   "mimetype": "text/x-python",
   "name": "python",
   "nbconvert_exporter": "python",
   "pygments_lexer": "ipython3",
   "version": "3.7.4"
  }
 },
 "nbformat": 4,
 "nbformat_minor": 4
}
